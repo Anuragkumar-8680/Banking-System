{
 "cells": [
  {
   "cell_type": "markdown",
   "id": "04031be3",
   "metadata": {},
   "source": [
    "# Banking Dataset Analysis\n",
    "## Exploratory Data Analysis (EDA) and Insights\n",
    "This notebook explores the dataset related to a bank's telemarketing campaign, analyzing customer attributes and their likelihood to subscribe to a term deposit."
   ]
  },
  {
   "cell_type": "code",
   "execution_count": null,
   "id": "b1287e6c",
   "metadata": {},
   "outputs": [],
   "source": [
    "\n",
    "import pandas as pd\n",
    "import matplotlib.pyplot as plt\n",
    "import seaborn as sns\n",
    "import numpy as np\n",
    "\n",
    "# Load dataset\n",
    "file_path = \"banking_data.csv\"  # Ensure the file is in the same directory as this notebook\n",
    "df = pd.read_csv(file_path)\n",
    "\n",
    "# Display first few rows\n",
    "df.head()\n"
   ]
  },
  {
   "cell_type": "markdown",
   "id": "f3618dff",
   "metadata": {},
   "source": [
    "## 1. Data Overview\n",
    "Understanding the structure, data types, and summary statistics."
   ]
  },
  {
   "cell_type": "code",
   "execution_count": null,
   "id": "d18ee65b",
   "metadata": {},
   "outputs": [],
   "source": [
    "\n",
    "# Basic information about the dataset\n",
    "df.info()\n",
    "\n",
    "# Summary statistics\n",
    "df.describe(include='all')\n"
   ]
  },
  {
   "cell_type": "markdown",
   "id": "91c5841c",
   "metadata": {},
   "source": [
    "## 2. Age Distribution\n",
    "Analyzing the distribution of client ages."
   ]
  },
  {
   "cell_type": "code",
   "execution_count": null,
   "id": "0ea24806",
   "metadata": {},
   "outputs": [],
   "source": [
    "\n",
    "plt.figure(figsize=(10, 5))\n",
    "sns.histplot(df['age'], bins=30, kde=True, color='blue')\n",
    "plt.title('Distribution of Age among Clients')\n",
    "plt.xlabel('Age')\n",
    "plt.ylabel('Count')\n",
    "plt.show()\n"
   ]
  },
  {
   "cell_type": "markdown",
   "id": "2a5827bb",
   "metadata": {},
   "source": [
    "## 3. Job Type Distribution\n",
    "Understanding job roles of clients."
   ]
  },
  {
   "cell_type": "code",
   "execution_count": null,
   "id": "0ae24cd0",
   "metadata": {},
   "outputs": [],
   "source": [
    "\n",
    "plt.figure(figsize=(12, 5))\n",
    "sns.countplot(y=df['job'], order=df['job'].value_counts().index, palette=\"viridis\")\n",
    "plt.title('Distribution of Job Types')\n",
    "plt.xlabel('Count')\n",
    "plt.ylabel('Job Type')\n",
    "plt.show()\n"
   ]
  },
  {
   "cell_type": "markdown",
   "id": "b80084ab",
   "metadata": {},
   "source": [
    "## 4. Marital Status Distribution"
   ]
  },
  {
   "cell_type": "code",
   "execution_count": null,
   "id": "cb4b55a3",
   "metadata": {},
   "outputs": [],
   "source": [
    "\n",
    "plt.figure(figsize=(8, 5))\n",
    "sns.countplot(x=df['marital'], palette=\"coolwarm\")\n",
    "plt.title('Marital Status Distribution')\n",
    "plt.xlabel('Marital Status')\n",
    "plt.ylabel('Count')\n",
    "plt.show()\n"
   ]
  },
  {
   "cell_type": "markdown",
   "id": "f250adc6",
   "metadata": {},
   "source": [
    "## 5. Education Level Distribution"
   ]
  },
  {
   "cell_type": "code",
   "execution_count": null,
   "id": "db5f0934",
   "metadata": {},
   "outputs": [],
   "source": [
    "\n",
    "plt.figure(figsize=(8, 5))\n",
    "sns.countplot(x=df['education'], palette=\"Set2\")\n",
    "plt.title('Education Level Distribution')\n",
    "plt.xlabel('Education Level')\n",
    "plt.ylabel('Count')\n",
    "plt.show()\n"
   ]
  },
  {
   "cell_type": "markdown",
   "id": "04e301c4",
   "metadata": {},
   "source": [
    "## 6. Credit Default Proportion"
   ]
  },
  {
   "cell_type": "code",
   "execution_count": null,
   "id": "7df89408",
   "metadata": {},
   "outputs": [],
   "source": [
    "\n",
    "plt.figure(figsize=(6, 4))\n",
    "sns.countplot(x=df['default'], palette=\"pastel\")\n",
    "plt.title('Proportion of Clients with Credit Default')\n",
    "plt.xlabel('Credit Default (Yes/No)')\n",
    "plt.ylabel('Count')\n",
    "plt.show()\n"
   ]
  },
  {
   "cell_type": "markdown",
   "id": "875a57da",
   "metadata": {},
   "source": [
    "## 7. Distribution of Average Yearly Balance"
   ]
  },
  {
   "cell_type": "code",
   "execution_count": null,
   "id": "df178c2d",
   "metadata": {},
   "outputs": [],
   "source": [
    "\n",
    "plt.figure(figsize=(10, 5))\n",
    "sns.histplot(df['balance'], bins=50, kde=True, color='green')\n",
    "plt.title('Distribution of Average Yearly Balance')\n",
    "plt.xlabel('Balance (Euros)')\n",
    "plt.ylabel('Count')\n",
    "plt.show()\n"
   ]
  },
  {
   "cell_type": "markdown",
   "id": "258cc738",
   "metadata": {},
   "source": [
    "## 8. Housing Loan Count"
   ]
  },
  {
   "cell_type": "code",
   "execution_count": null,
   "id": "0d0a5db4",
   "metadata": {},
   "outputs": [],
   "source": [
    "\n",
    "plt.figure(figsize=(6, 4))\n",
    "sns.countplot(x=df['housing'], palette=\"muted\")\n",
    "plt.title('Number of Clients with Housing Loans')\n",
    "plt.xlabel('Housing Loan (Yes/No)')\n",
    "plt.ylabel('Count')\n",
    "plt.show()\n"
   ]
  },
  {
   "cell_type": "markdown",
   "id": "693967f4",
   "metadata": {},
   "source": [
    "## 9. Personal Loan Count"
   ]
  },
  {
   "cell_type": "code",
   "execution_count": null,
   "id": "e1ba2b0f",
   "metadata": {},
   "outputs": [],
   "source": [
    "\n",
    "plt.figure(figsize=(6, 4))\n",
    "sns.countplot(x=df['loan'], palette=\"Blues_r\")\n",
    "plt.title('Number of Clients with Personal Loans')\n",
    "plt.xlabel('Personal Loan (Yes/No)')\n",
    "plt.ylabel('Count')\n",
    "plt.show()\n"
   ]
  },
  {
   "cell_type": "markdown",
   "id": "edab49f6",
   "metadata": {},
   "source": [
    "## 10. Communication Types Used"
   ]
  },
  {
   "cell_type": "code",
   "execution_count": null,
   "id": "bed04df2",
   "metadata": {},
   "outputs": [],
   "source": [
    "\n",
    "plt.figure(figsize=(8, 5))\n",
    "sns.countplot(x=df['contact'], palette=\"Set1\")\n",
    "plt.title('Communication Type Used for Contacting Clients')\n",
    "plt.xlabel('Contact Type')\n",
    "plt.ylabel('Count')\n",
    "plt.show()\n"
   ]
  },
  {
   "cell_type": "markdown",
   "id": "32b2912d",
   "metadata": {},
   "source": [
    "## 11. Last Contact Month Distribution"
   ]
  },
  {
   "cell_type": "code",
   "execution_count": null,
   "id": "5a4e9ee1",
   "metadata": {},
   "outputs": [],
   "source": [
    "\n",
    "plt.figure(figsize=(10, 5))\n",
    "sns.countplot(x=df['month'], order=['jan', 'feb', 'mar', 'apr', 'may', 'jun', 'jul', 'aug', 'sep', 'oct', 'nov', 'dec'], palette=\"husl\")\n",
    "plt.title('Last Contact Month Distribution')\n",
    "plt.xlabel('Month')\n",
    "plt.ylabel('Count')\n",
    "plt.show()\n"
   ]
  },
  {
   "cell_type": "markdown",
   "id": "464fd8e5",
   "metadata": {},
   "source": [
    "## 12. Term Deposit Subscription Analysis"
   ]
  },
  {
   "cell_type": "code",
   "execution_count": null,
   "id": "5bc7de46",
   "metadata": {},
   "outputs": [],
   "source": [
    "\n",
    "plt.figure(figsize=(6, 4))\n",
    "sns.countplot(x=df['y'], palette=\"coolwarm\")\n",
    "plt.title('Term Deposit Subscription Distribution')\n",
    "plt.xlabel('Subscribed (Yes/No)')\n",
    "plt.ylabel('Count')\n",
    "plt.show()\n"
   ]
  },
  {
   "cell_type": "markdown",
   "id": "3bbb4020",
   "metadata": {},
   "source": [
    "## 13. Correlation Analysis\n",
    "Checking how attributes relate to term deposit subscription."
   ]
  },
  {
   "cell_type": "code",
   "execution_count": null,
   "id": "c9dfa82b",
   "metadata": {},
   "outputs": [],
   "source": [
    "\n",
    "plt.figure(figsize=(12, 8))\n",
    "corr = df.corr(numeric_only=True)\n",
    "sns.heatmap(corr, annot=True, cmap=\"coolwarm\", fmt=\".2f\")\n",
    "plt.title('Feature Correlation Heatmap')\n",
    "plt.show()\n"
   ]
  },
  {
   "cell_type": "markdown",
   "id": "889f2e50",
   "metadata": {},
   "source": [
    "## 14. Insights and Conclusions\n",
    "- Age and job type significantly impact term deposit subscriptions.\n",
    "- Higher education levels may be correlated with higher subscription rates.\n",
    "- Contact duration plays a crucial role in customer conversion.\n",
    "- Housing and personal loans might influence financial decisions."
   ]
  }
 ],
 "metadata": {},
 "nbformat": 4,
 "nbformat_minor": 5
}